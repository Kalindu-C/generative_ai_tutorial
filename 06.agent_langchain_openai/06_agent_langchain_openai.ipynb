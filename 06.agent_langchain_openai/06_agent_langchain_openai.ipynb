{
  "nbformat": 4,
  "nbformat_minor": 0,
  "metadata": {
    "colab": {
      "provenance": []
    },
    "kernelspec": {
      "name": "python3",
      "display_name": "Python 3"
    },
    "language_info": {
      "name": "python"
    }
  },
  "cells": [
    {
      "cell_type": "markdown",
      "source": [
        "# **LLM Agents** with LangChain and OpenAI"
      ],
      "metadata": {
        "id": "IvTVmcV17t5q"
      }
    },
    {
      "cell_type": "code",
      "execution_count": null,
      "metadata": {
        "id": "mzoUbTCyTOLD"
      },
      "outputs": [],
      "source": [
        "# Install the necessary packages\n",
        "!pip install langchain -qU\n",
        "!pip install langchain-openai -qU\n",
        "!pip install langchain-community -qU\n",
        "\n",
        "!pip install duckduckgo-search -qU\n",
        "!pip install pyowm -qU\n",
        "\n",
        "!pip install langchainhub -qU"
      ]
    },
    {
      "cell_type": "code",
      "source": [
        "import os\n",
        "from google.colab import userdata"
      ],
      "metadata": {
        "id": "Qmm0BAzoTZHV"
      },
      "execution_count": null,
      "outputs": []
    },
    {
      "cell_type": "markdown",
      "source": [
        "### Initialize OpenAI LLM"
      ],
      "metadata": {
        "id": "pXS5XFmt75kz"
      }
    },
    {
      "cell_type": "code",
      "source": [
        "from langchain_openai import ChatOpenAI\n",
        "\n",
        "# Set OpenAI API key\n",
        "os.environ['OPENAI_API_KEY'] = userdata.get('OPENAI_API_KEY')\n",
        "\n",
        "# Initialize the ChatOpenAI model\n",
        "llm = ChatOpenAI(\n",
        "    model=\"gpt-3.5-turbo\",\n",
        "    temperature=0\n",
        ")"
      ],
      "metadata": {
        "id": "kIdFkBP0TboL"
      },
      "execution_count": null,
      "outputs": []
    },
    {
      "cell_type": "markdown",
      "source": [
        "### Initialize DuckDuckGo Search Tool"
      ],
      "metadata": {
        "id": "vHYsugPu8F0V"
      }
    },
    {
      "cell_type": "code",
      "source": [
        "from langchain_community.tools import DuckDuckGoSearchRun\n",
        "\n",
        "# Initialize DuckDuckGo search tool\n",
        "search_tool = DuckDuckGoSearchRun()\n",
        "\n",
        "search_tool"
      ],
      "metadata": {
        "id": "gg4q4bFD0X6i"
      },
      "execution_count": null,
      "outputs": []
    },
    {
      "cell_type": "markdown",
      "source": [
        "### Initialize OpenWeatherMap Tool"
      ],
      "metadata": {
        "id": "nGUBXyGi4FEj"
      }
    },
    {
      "cell_type": "code",
      "source": [
        "from langchain_community.utilities import OpenWeatherMapAPIWrapper\n",
        "from langchain.agents import load_tools\n",
        "\n",
        "os.environ[\"OPENWEATHERMAP_API_KEY\"] = userdata.get('OPENWEATHERMAP_API_KEY')\n",
        "\n",
        "# Initialize OpenWeatherMap tool\n",
        "weather = OpenWeatherMapAPIWrapper()\n",
        "\n",
        "weather_tool = load_tools([\"openweathermap-api\"], llm)[0]\n",
        "\n",
        "weather_tool"
      ],
      "metadata": {
        "id": "ZbJsUAre4GiS"
      },
      "execution_count": null,
      "outputs": []
    },
    {
      "cell_type": "markdown",
      "source": [
        "### Load Prompt Template from LangChainHub"
      ],
      "metadata": {
        "id": "yRBvpAra8PjV"
      }
    },
    {
      "cell_type": "code",
      "source": [
        "from langchain import hub\n",
        "\n",
        "# Pull the prompt template from LangChainHub\n",
        "prompt = hub.pull(\"hwchase17/react\")\n",
        "\n",
        "print(prompt)"
      ],
      "metadata": {
        "id": "_ciTFGRm2SDD"
      },
      "execution_count": null,
      "outputs": []
    },
    {
      "cell_type": "markdown",
      "source": [
        "### Create Built-in Agent"
      ],
      "metadata": {
        "id": "0tGcrxAZ8Z_u"
      }
    },
    {
      "cell_type": "code",
      "source": [
        "from langchain.agents import create_react_agent\n",
        "\n",
        "# List of tools for the agent\n",
        "tools = [search_tool, weather_tool]\n",
        "\n",
        "# Create the agent using the LLM and the prompt template\n",
        "agent = create_react_agent(tools = tools, llm = llm, prompt=prompt)"
      ],
      "metadata": {
        "id": "lLJovypjSc04"
      },
      "execution_count": null,
      "outputs": []
    },
    {
      "cell_type": "code",
      "source": [
        "from langchain.agents import AgentExecutor\n",
        "\n",
        "# Initialize the agent executor with the created agent and tools\n",
        "agent_executor = AgentExecutor(agent=agent, tools=tools, verbose=True, handle_parsing_errors=True)"
      ],
      "metadata": {
        "id": "8MFfrDAjUBCg"
      },
      "execution_count": null,
      "outputs": []
    },
    {
      "cell_type": "markdown",
      "source": [
        "### Invoke the agent executor with an example question"
      ],
      "metadata": {
        "id": "p435gRRG8uVj"
      }
    },
    {
      "cell_type": "code",
      "source": [
        "response = agent_executor.invoke({\"input\": \"What's the weather in Kandy?\"})\n",
        "\n",
        "print(response['output'])"
      ],
      "metadata": {
        "id": "Mvn46soP5cpA"
      },
      "execution_count": null,
      "outputs": []
    },
    {
      "cell_type": "code",
      "source": [
        "response = agent_executor.invoke({\"input\": \"what is machine learning?\"})\n",
        "\n",
        "print(response['output'])"
      ],
      "metadata": {
        "id": "y6TSNORLS6m7"
      },
      "execution_count": null,
      "outputs": []
    },
    {
      "cell_type": "code",
      "source": [
        "response = agent_executor.invoke({\"input\": \"how many words count within introduction to machine learning?\"})\n",
        "\n",
        "print(response['output'])"
      ],
      "metadata": {
        "id": "1qQU-2xr6JUi"
      },
      "execution_count": null,
      "outputs": []
    },
    {
      "cell_type": "markdown",
      "source": [
        "### Define Custom Tool"
      ],
      "metadata": {
        "id": "eMS7xi3J81dh"
      }
    },
    {
      "cell_type": "code",
      "source": [
        "from langchain.agents import tool\n",
        "\n",
        "@tool\n",
        "def word_count(text: str) -> int:\n",
        "  \"\"\"Returns the word count.\"\"\"\n",
        "  return len(text.split())"
      ],
      "metadata": {
        "id": "PmPkJL-hS6g5"
      },
      "execution_count": null,
      "outputs": []
    },
    {
      "cell_type": "code",
      "source": [
        "# Add the custom tool to the list of tools\n",
        "tools.append(word_count)\n",
        "\n",
        "print(tools)"
      ],
      "metadata": {
        "id": "c8boefY5S6eC"
      },
      "execution_count": null,
      "outputs": []
    },
    {
      "cell_type": "code",
      "source": [
        "# Create a new agent with the DuckDuckGo search tool, OpenWeatherMap tool  and custom word count tool\n",
        "agent = create_react_agent(tools = tools, llm = llm, prompt=prompt)\n",
        "\n",
        "# Initialize the agent executor with the new agent and tools\n",
        "agent_executor = AgentExecutor(agent=agent, tools=tools, verbose=True, handle_parsing_errors=True)"
      ],
      "metadata": {
        "id": "p6PShqawUtKo"
      },
      "execution_count": null,
      "outputs": []
    },
    {
      "cell_type": "markdown",
      "source": [
        "### Invoke the custom agent executor with example questions"
      ],
      "metadata": {
        "id": "9-M3RcxP9KDD"
      }
    },
    {
      "cell_type": "code",
      "source": [
        "response = agent_executor.invoke({\"input\": \"what is machine learning?\"})\n",
        "\n",
        "print(response['output'])"
      ],
      "metadata": {
        "id": "0bDCINB7UtHg"
      },
      "execution_count": null,
      "outputs": []
    },
    {
      "cell_type": "code",
      "source": [
        "response = agent_executor.invoke({\"input\": \"how many words count within introduction to machine learning?\"})\n",
        "\n",
        "print(response['output'])"
      ],
      "metadata": {
        "id": "K01YigvGScx5"
      },
      "execution_count": null,
      "outputs": []
    }
  ]
}