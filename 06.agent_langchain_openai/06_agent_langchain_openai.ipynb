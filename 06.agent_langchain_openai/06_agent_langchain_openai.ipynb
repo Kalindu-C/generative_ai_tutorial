{
  "nbformat": 4,
  "nbformat_minor": 0,
  "metadata": {
    "colab": {
      "provenance": []
    },
    "kernelspec": {
      "name": "python3",
      "display_name": "Python 3"
    },
    "language_info": {
      "name": "python"
    }
  },
  "cells": [
    {
      "cell_type": "markdown",
      "source": [
        "# **LLM Agents** with LangChain and OpenAI"
      ],
      "metadata": {
        "id": "IvTVmcV17t5q"
      }
    },
    {
      "cell_type": "code",
      "execution_count": 1,
      "metadata": {
        "id": "mzoUbTCyTOLD"
      },
      "outputs": [],
      "source": [
        "# Install the necessary packages\n",
        "!pip install langchain -qU\n",
        "!pip install langchain-openai -qU\n",
        "!pip install langchain-community -qU\n",
        "!pip install duckduckgo-search -qU\n",
        "!pip install langchainhub -qU"
      ]
    },
    {
      "cell_type": "code",
      "source": [
        "import os\n",
        "from google.colab import userdata"
      ],
      "metadata": {
        "id": "Qmm0BAzoTZHV"
      },
      "execution_count": 2,
      "outputs": []
    },
    {
      "cell_type": "markdown",
      "source": [
        "### Initialize OpenAI LLM"
      ],
      "metadata": {
        "id": "pXS5XFmt75kz"
      }
    },
    {
      "cell_type": "code",
      "source": [
        "from langchain_openai import ChatOpenAI\n",
        "\n",
        "# Set OpenAI API key\n",
        "os.environ['OPENAI_API_KEY'] = userdata.get('OPENAI_API_KEY')\n",
        "\n",
        "# Initialize the ChatOpenAI model\n",
        "llm = ChatOpenAI(\n",
        "    model=\"gpt-3.5-turbo\",\n",
        "    temperature=0\n",
        ")"
      ],
      "metadata": {
        "id": "kIdFkBP0TboL"
      },
      "execution_count": 3,
      "outputs": []
    },
    {
      "cell_type": "markdown",
      "source": [
        "### Initialize DuckDuckGo Search Tool"
      ],
      "metadata": {
        "id": "vHYsugPu8F0V"
      }
    },
    {
      "cell_type": "code",
      "source": [
        "from langchain_community.tools import DuckDuckGoSearchRun\n",
        "\n",
        "# Initialize DuckDuckGo search tool\n",
        "search = DuckDuckGoSearchRun()\n",
        "\n",
        "search"
      ],
      "metadata": {
        "id": "gg4q4bFD0X6i",
        "colab": {
          "base_uri": "https://localhost:8080/"
        },
        "outputId": "5c1fb7ab-ef55-4438-bad2-eeea850ef49d"
      },
      "execution_count": 4,
      "outputs": [
        {
          "output_type": "execute_result",
          "data": {
            "text/plain": [
              "DuckDuckGoSearchRun()"
            ]
          },
          "metadata": {},
          "execution_count": 4
        }
      ]
    },
    {
      "cell_type": "markdown",
      "source": [
        "### Load Prompt Template from LangChainHub"
      ],
      "metadata": {
        "id": "yRBvpAra8PjV"
      }
    },
    {
      "cell_type": "code",
      "source": [
        "from langchain import hub\n",
        "\n",
        "# Pull the prompt template from LangChainHub\n",
        "prompt = hub.pull(\"hwchase17/react\")\n",
        "\n",
        "print(prompt)"
      ],
      "metadata": {
        "colab": {
          "base_uri": "https://localhost:8080/"
        },
        "id": "_ciTFGRm2SDD",
        "outputId": "a9f491e7-1bea-4917-fb7a-1a556fa93f55"
      },
      "execution_count": 5,
      "outputs": [
        {
          "output_type": "stream",
          "name": "stdout",
          "text": [
            "input_variables=['agent_scratchpad', 'input', 'tool_names', 'tools'] metadata={'lc_hub_owner': 'hwchase17', 'lc_hub_repo': 'react', 'lc_hub_commit_hash': 'd15fe3c426f1c4b3f37c9198853e4a86e20c425ca7f4752ec0c9b0e97ca7ea4d'} template='Answer the following questions as best you can. You have access to the following tools:\\n\\n{tools}\\n\\nUse the following format:\\n\\nQuestion: the input question you must answer\\nThought: you should always think about what to do\\nAction: the action to take, should be one of [{tool_names}]\\nAction Input: the input to the action\\nObservation: the result of the action\\n... (this Thought/Action/Action Input/Observation can repeat N times)\\nThought: I now know the final answer\\nFinal Answer: the final answer to the original input question\\n\\nBegin!\\n\\nQuestion: {input}\\nThought:{agent_scratchpad}'\n"
          ]
        }
      ]
    },
    {
      "cell_type": "markdown",
      "source": [
        "### Create Built-in Agent"
      ],
      "metadata": {
        "id": "0tGcrxAZ8Z_u"
      }
    },
    {
      "cell_type": "code",
      "source": [
        "from langchain.agents import create_react_agent\n",
        "\n",
        "# List of tools for the agent\n",
        "tools = [search]\n",
        "\n",
        "# Create the agent using the LLM and the prompt template\n",
        "agent = create_react_agent(tools = tools, llm = llm, prompt=prompt)"
      ],
      "metadata": {
        "id": "lLJovypjSc04"
      },
      "execution_count": 6,
      "outputs": []
    },
    {
      "cell_type": "code",
      "source": [
        "from langchain.agents import AgentExecutor\n",
        "\n",
        "# Initialize the agent executor with the created agent and tools\n",
        "agent_executor = AgentExecutor(agent=agent, tools=tools, verbose=True, handle_parsing_errors=True)"
      ],
      "metadata": {
        "id": "8MFfrDAjUBCg"
      },
      "execution_count": 7,
      "outputs": []
    },
    {
      "cell_type": "markdown",
      "source": [
        "### Invoke the agent executor with an example question"
      ],
      "metadata": {
        "id": "p435gRRG8uVj"
      }
    },
    {
      "cell_type": "code",
      "source": [
        "response = agent_executor.invoke({\"input\": \"what is machine learning?\"})\n",
        "\n",
        "print(response['output'])"
      ],
      "metadata": {
        "colab": {
          "base_uri": "https://localhost:8080/"
        },
        "id": "y6TSNORLS6m7",
        "outputId": "14dca8b2-6d5b-456c-97bc-cd244446f2a4"
      },
      "execution_count": 8,
      "outputs": [
        {
          "output_type": "stream",
          "name": "stdout",
          "text": [
            "\n",
            "\n",
            "\u001b[1m> Entering new AgentExecutor chain...\u001b[0m\n",
            "\u001b[32;1m\u001b[1;3mI should search for a definition of machine learning to provide an accurate answer.\n",
            "Action: duckduckgo_search\n",
            "Action Input: machine learning definition\u001b[0m\u001b[36;1m\u001b[1;3mLearn what machine learning is, how it works, and the different types of it powering the services and applications we rely on every day. Explore real-world examples, benefits and dangers, and beginner-friendly courses on Coursera. Machine learning is a form of AI that can adapt to a wide range of inputs, including large data sets and human instruction. Learn how machine learning evolved, how it differs from deep learning and generative AI, and what kinds of neural networks are used in deep learning. Machine learning is a branch of artificial intelligence that equips computer systems to learn and improve from experience without explicit programming. Learn about the history, applications, and potential of this transformative technology in this comprehensive guide for beginners. Machine learning is a branch of AI that trains computers to learn and improve from data and examples. Learn about the main types of machine learning models, how they work, and their advantages and limitations. Learn what machine learning is, how it works, and why it is important. Explore the different types of machine learning, such as supervised, unsupervised, reinforcement, and semi-supervised learning, with examples and applications.\u001b[0m\u001b[32;1m\u001b[1;3mI have gathered enough information to provide a clear definition of machine learning.\n",
            "Final Answer: Machine learning is a branch of artificial intelligence that equips computer systems to learn and improve from experience without explicit programming.\u001b[0m\n",
            "\n",
            "\u001b[1m> Finished chain.\u001b[0m\n",
            "Machine learning is a branch of artificial intelligence that equips computer systems to learn and improve from experience without explicit programming.\n"
          ]
        }
      ]
    },
    {
      "cell_type": "code",
      "source": [
        "response = agent_executor.invoke({\"input\": \"how many words count within introduction to machine learning?\"})\n",
        "\n",
        "print(response['output'])"
      ],
      "metadata": {
        "colab": {
          "base_uri": "https://localhost:8080/"
        },
        "id": "1qQU-2xr6JUi",
        "outputId": "a5b4092a-ef12-4b29-a9e7-3e858b6eec2d"
      },
      "execution_count": 9,
      "outputs": [
        {
          "output_type": "stream",
          "name": "stdout",
          "text": [
            "\n",
            "\n",
            "\u001b[1m> Entering new AgentExecutor chain...\u001b[0m\n",
            "\u001b[32;1m\u001b[1;3mI should search for the word count of an introduction to machine learning.\n",
            "Action: duckduckgo_search\n",
            "Action Input: word count of introduction to machine learning\u001b[0m\u001b[36;1m\u001b[1;3mAn Introduction to Machine Learning. Machine learning (ML) is a type of artificial intelligence (AI) that allows computers to learn without being explicitly programmed. This article explores the concept of machine learning, providing various definitions and discussing its applications. The article also dives into different classifications of ... Welcome to Introduction to Machine Learning! This course introduces machine learning ( ML) concepts. This course does not cover how to implement ML or work with data. Estimated Course Length: 20 minutes. Learning objectives: Understand the different types of machine learning. Understand the key concepts of supervised machine learning. As a Machine Learning Researcher or Machine Learning Engineer, there are many technical tools and programming languages you might use in your day-to-day job. But for today and for this handbook, we'll use the programming language and tools: Python Basics: Variables, data types, structures, and control mechanisms. Machine learning definition. Machine learning is a subfield of artificial intelligence (AI) that uses algorithms trained on data sets to create self-learning models that are capable of predicting outcomes and classifying information without human intervention. Machine learning is used today for a wide range of commercial purposes, including ... Machine learning (ML) is a subdomain of artificial intelligence (AI) that focuses on developing systems that learn—or improve performance—based on the data they ingest. Artificial intelligence is a broad word that refers to systems or machines that resemble human intelligence. Machine learning and AI are frequently discussed together, and ...\u001b[0m\u001b[32;1m\u001b[1;3mI need to find the specific word count within the introduction to machine learning.\n",
            "Action: duckduckgo_search\n",
            "Action Input: word count of introduction to machine learning\u001b[0m\u001b[36;1m\u001b[1;3mAn Introduction to Machine Learning. Machine learning (ML) is a type of artificial intelligence (AI) that allows computers to learn without being explicitly programmed. This article explores the concept of machine learning, providing various definitions and discussing its applications. The article also dives into different classifications of ... As a Machine Learning Researcher or Machine Learning Engineer, there are many technical tools and programming languages you might use in your day-to-day job. But for today and for this handbook, we'll use the programming language and tools: Python Basics: Variables, data types, structures, and control mechanisms. Machine learning definition. Machine learning is a subfield of artificial intelligence (AI) that uses algorithms trained on data sets to create self-learning models that are capable of predicting outcomes and classifying information without human intervention. Machine learning is used today for a wide range of commercial purposes, including ... Welcome to Introduction to Machine Learning! This course introduces machine learning ( ML) concepts. This course does not cover how to implement ML or work with data. Estimated Course Length: 20 minutes. Learning objectives: Understand the different types of machine learning. Understand the key concepts of supervised machine learning. Machine learning (ML) is a subfield of artificial intelligence. It enables computers to learn and improve from experience without explicit human instructions. It employs algorithms to process and learn from data, encompassing three main types: supervised, unsupervised, and reinforcement learning. These methods enable applications in various fields, such as pattern recognition, regression ...\u001b[0m\u001b[32;1m\u001b[1;3mI should look for a specific word count within the introduction to machine learning.\n",
            "Action: duckduckgo_search\n",
            "Action Input: word count of introduction to machine learning\u001b[0m\u001b[36;1m\u001b[1;3mAn Introduction to Machine Learning. Machine learning (ML) is a type of artificial intelligence (AI) that allows computers to learn without being explicitly programmed. This article explores the concept of machine learning, providing various definitions and discussing its applications. The article also dives into different classifications of ... As a Machine Learning Researcher or Machine Learning Engineer, there are many technical tools and programming languages you might use in your day-to-day job. But for today and for this handbook, we'll use the programming language and tools: Python Basics: Variables, data types, structures, and control mechanisms. Machine learning definition. Machine learning is a subfield of artificial intelligence (AI) that uses algorithms trained on data sets to create self-learning models that are capable of predicting outcomes and classifying information without human intervention. Machine learning is used today for a wide range of commercial purposes, including ... Welcome to Introduction to Machine Learning! This course introduces machine learning ( ML) concepts. This course does not cover how to implement ML or work with data. Estimated Course Length: 20 minutes. Learning objectives: Understand the different types of machine learning. Understand the key concepts of supervised machine learning. Machine learning (ML) is a subfield of artificial intelligence. It enables computers to learn and improve from experience without explicit human instructions. It employs algorithms to process and learn from data, encompassing three main types: supervised, unsupervised, and reinforcement learning. These methods enable applications in various fields, such as pattern recognition, regression ...\u001b[0m\u001b[32;1m\u001b[1;3mI now know the final answer\n",
            "Final Answer: The word count within the introduction to machine learning is not specified in the search results.\u001b[0m\n",
            "\n",
            "\u001b[1m> Finished chain.\u001b[0m\n",
            "The word count within the introduction to machine learning is not specified in the search results.\n"
          ]
        }
      ]
    },
    {
      "cell_type": "markdown",
      "source": [
        "### Define Custom Tool"
      ],
      "metadata": {
        "id": "eMS7xi3J81dh"
      }
    },
    {
      "cell_type": "code",
      "source": [
        "from langchain.agents import tool\n",
        "\n",
        "@tool\n",
        "def word_count(text: str) -> int:\n",
        "  \"\"\"Returns the word count.\"\"\"\n",
        "  return len(text.split())"
      ],
      "metadata": {
        "id": "PmPkJL-hS6g5"
      },
      "execution_count": 10,
      "outputs": []
    },
    {
      "cell_type": "code",
      "source": [
        "# Add the custom tool to the list of tools\n",
        "tools.append(word_count)\n",
        "\n",
        "print(tools)"
      ],
      "metadata": {
        "id": "c8boefY5S6eC",
        "colab": {
          "base_uri": "https://localhost:8080/"
        },
        "outputId": "17a0951a-fc3d-4a15-da84-65152ab1a007"
      },
      "execution_count": 11,
      "outputs": [
        {
          "output_type": "stream",
          "name": "stdout",
          "text": [
            "[DuckDuckGoSearchRun(), StructuredTool(name='word_count', description='Returns the word count.', args_schema=<class 'pydantic.v1.main.word_countSchema'>, func=<function word_count at 0x7a0793dd5a20>)]\n"
          ]
        }
      ]
    },
    {
      "cell_type": "code",
      "source": [
        "# Create a new agent with the DuckDuckGo search tool and custom word count tool\n",
        "agent = create_react_agent(tools = tools, llm = llm, prompt=prompt)\n",
        "\n",
        "# Initialize the agent executor with the new agent and tools\n",
        "agent_executor = AgentExecutor(agent=agent, tools=tools, verbose=True, handle_parsing_errors=True)"
      ],
      "metadata": {
        "id": "p6PShqawUtKo"
      },
      "execution_count": 12,
      "outputs": []
    },
    {
      "cell_type": "markdown",
      "source": [
        "### Invoke the custom agent executor with example questions"
      ],
      "metadata": {
        "id": "9-M3RcxP9KDD"
      }
    },
    {
      "cell_type": "code",
      "source": [
        "response = agent_executor.invoke({\"input\": \"what is machine learning?\"})\n",
        "\n",
        "print(response['output'])"
      ],
      "metadata": {
        "colab": {
          "base_uri": "https://localhost:8080/"
        },
        "id": "0bDCINB7UtHg",
        "outputId": "35ebf2b2-903c-4d5f-f25b-30c5398693a7"
      },
      "execution_count": 13,
      "outputs": [
        {
          "output_type": "stream",
          "name": "stdout",
          "text": [
            "\n",
            "\n",
            "\u001b[1m> Entering new AgentExecutor chain...\u001b[0m\n",
            "\u001b[32;1m\u001b[1;3mI should search for a definition of machine learning to provide an accurate answer.\n",
            "Action: duckduckgo_search\n",
            "Action Input: \"definition of machine learning\"\u001b[0m\u001b[36;1m\u001b[1;3mLearn what machine learning is, how it works, and the different types of it powering the services and applications we rely on every day. Explore real-world examples, benefits and dangers, and beginner-friendly courses on Coursera. Machine learning is a broad umbrella term encompassing various algorithms and techniques that enable computer systems to learn and improve from data without explicit programming. It focuses on developing models that can automatically analyze and interpret data, identify patterns, and make predictions or decisions. Machine learning is a form of AI that can adapt to a wide range of inputs, including large data sets and human instruction. Learn how machine learning evolved, how it differs from deep learning and generative AI, and what kinds of neural networks are used in deep learning. Machine learning is a branch of AI that trains computers to learn and improve from data and examples. Learn about the main types of machine learning models, how they work, and their advantages and limitations. Machine learning is an application of artificial intelligence where a machine learns from past experiences (input data) and makes future predictions. It's typically divided into three categories: supervised learning, unsupervised learning and reinforcement learning. This article introduces the basics of machine learning theory, laying down the common concepts and techniques involved.\u001b[0m\u001b[32;1m\u001b[1;3mI should count the number of words in this definition to provide a concise answer.\n",
            "Action: word_count\n",
            "Action Input: \"Machine learning is a broad umbrella term encompassing various algorithms and techniques that enable computer systems to learn and improve from data without explicit programming. It focuses on developing models that can automatically analyze and interpret data, identify patterns, and make predictions or decisions. Machine learning is a form of AI that can adapt to a wide range of inputs, including large data sets and human instruction. Machine learning is a branch of AI that trains computers to learn and improve from data and examples. Machine learning is an application of artificial intelligence where a machine learns from past experiences (input data) and makes future predictions. It's typically divided into three categories: supervised learning, unsupervised learning and reinforcement learning.\"\u001b[0m\u001b[33;1m\u001b[1;3m119\u001b[0m\u001b[32;1m\u001b[1;3mI now know the final answer\n",
            "Final Answer: Machine learning is a broad umbrella term encompassing various algorithms and techniques that enable computer systems to learn and improve from data without explicit programming.\u001b[0m\n",
            "\n",
            "\u001b[1m> Finished chain.\u001b[0m\n",
            "Machine learning is a broad umbrella term encompassing various algorithms and techniques that enable computer systems to learn and improve from data without explicit programming.\n"
          ]
        }
      ]
    },
    {
      "cell_type": "code",
      "source": [
        "response = agent_executor.invoke({\"input\": \"how many words count within introduction to machine learning?\"})\n",
        "\n",
        "print(response['output'])"
      ],
      "metadata": {
        "colab": {
          "base_uri": "https://localhost:8080/"
        },
        "id": "K01YigvGScx5",
        "outputId": "5cb09e83-3103-4862-b0da-98d5a1311cc1"
      },
      "execution_count": 14,
      "outputs": [
        {
          "output_type": "stream",
          "name": "stdout",
          "text": [
            "\n",
            "\n",
            "\u001b[1m> Entering new AgentExecutor chain...\u001b[0m\n",
            "\u001b[32;1m\u001b[1;3mI should use the word_count tool to find the number of words in the text \"introduction to machine learning\".\n",
            "Action: word_count\n",
            "Action Input: \"introduction to machine learning\"\u001b[0m\u001b[33;1m\u001b[1;3m4\u001b[0m\u001b[32;1m\u001b[1;3mI need to search for the text \"introduction to machine learning\" to get the accurate word count.\n",
            "Action: duckduckgo_search\n",
            "Action Input: \"introduction to machine learning\"\u001b[0m\u001b[36;1m\u001b[1;3mLearn what machine learning is, how it works, and the different types of it powering the services and applications we rely on every day. Explore real-world examples, benefits and dangers, and beginner-friendly courses on Coursera. Learn the basics of machine learning, a subfield of artificial intelligence that involves the development of algorithms and models that enable computers to improve their performance in tasks through experience. Explore the definitions, types, examples, and applications of machine learning, and how to learn practical skills with Python. Welcome to Introduction to Machine Learning! This course introduces machine learning ( ML) concepts. This course does not cover how to implement ML or work with data. Estimated Course Length: 20 minutes. Learning objectives: Understand the different types of machine learning. Understand the key concepts of supervised machine learning. As a Machine Learning Researcher or Machine Learning Engineer, there are many technical tools and programming languages you might use in your day-to-day job. But for today and for this handbook, we'll use the programming language and tools: Python Basics: Variables, data types, structures, and control mechanisms. Learn the basics and advanced concepts of machine learning, a subdomain of artificial intelligence that focuses on developing systems that learn from data. Explore various techniques, such as supervised, unsupervised, and reinforcement learning, and applications, such as natural language processing and neural networks.\u001b[0m\u001b[32;1m\u001b[1;3mI need to count the words in the text I found through the search.\n",
            "Action: word_count\n",
            "Action Input: \"Learn what machine learning is, how it works, and the different types of it powering the services and applications we rely on every day. Explore real-world examples, benefits and dangers, and beginner-friendly courses on Coursera. Learn the basics of machine learning, a subfield of artificial intelligence that involves the development of algorithms and models that enable computers to improve their performance in tasks through experience. Explore the definitions, types, examples, and applications of machine learning, and how to learn practical skills with Python. Welcome to Introduction to Machine Learning! This course introduces machine learning ( ML) concepts. This course does not cover how to implement ML or work with data. Estimated Course Length: 20 minutes. Learning objectives: Understand the different types of machine learning. Understand the key concepts of supervised machine learning. As a Machine Learning Researcher or Machine Learning Engineer, there are many technical tools and programming languages you might use in your day-to-day job. But for today and for this handbook, we'll use the programming language and tools: Python Basics: Variables, data types, structures, and control mechanisms. Learn the basics and advanced concepts of machine learning, a subdomain of artificial intelligence that focuses on developing systems that learn from data. Explore various techniques, such as supervised, unsupervised, and reinforcement learning, and applications, such as natural language processing and neural networks.\"\u001b[0m\u001b[33;1m\u001b[1;3m222\u001b[0m\u001b[32;1m\u001b[1;3mI now know the final answer\n",
            "Final Answer: The introduction to machine learning text contains 222 words.\u001b[0m\n",
            "\n",
            "\u001b[1m> Finished chain.\u001b[0m\n",
            "The introduction to machine learning text contains 222 words.\n"
          ]
        }
      ]
    }
  ]
}