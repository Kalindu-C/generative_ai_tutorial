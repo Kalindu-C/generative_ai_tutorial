{
  "nbformat": 4,
  "nbformat_minor": 0,
  "metadata": {
    "colab": {
      "provenance": [],
      "gpuType": "T4"
    },
    "kernelspec": {
      "name": "python3",
      "display_name": "Python 3"
    },
    "language_info": {
      "name": "python"
    },
    "accelerator": "GPU"
  },
  "cells": [
    {
      "cell_type": "markdown",
      "source": [
        "# **RAG Application** with LangChain and HuggingFace LLM"
      ],
      "metadata": {
        "id": "qPrQevtVHfAa"
      }
    },
    {
      "cell_type": "code",
      "execution_count": 1,
      "metadata": {
        "id": "cAz0poIYiyQF"
      },
      "outputs": [],
      "source": [
        "# Install the necessary packages\n",
        "!pip install torch -q\n",
        "!pip install transformers -q\n",
        "!pip install numpy -q\n",
        "!pip install langchain -q\n",
        "!pip install langchain_community -q\n",
        "!pip install langchain-chroma -q\n",
        "!pip install sentence_transformers -q"
      ]
    },
    {
      "cell_type": "code",
      "source": [
        "import os\n",
        "from google.colab import userdata"
      ],
      "metadata": {
        "id": "mvtHhNb7LlLe"
      },
      "execution_count": 2,
      "outputs": []
    },
    {
      "cell_type": "markdown",
      "source": [
        "### Initialize HuggingFace LLM"
      ],
      "metadata": {
        "id": "imsRWg7LHnfa"
      }
    },
    {
      "cell_type": "markdown",
      "source": [
        "Model repo url: https://huggingface.co/mistralai/Mistral-7B-v0.1"
      ],
      "metadata": {
        "id": "JlJ6qI0xJBln"
      }
    },
    {
      "cell_type": "code",
      "source": [
        "from langchain_community.llms import HuggingFaceHub\n",
        "\n",
        "# Initialize the HuggingFace llm\n",
        "llm = HuggingFaceHub(\n",
        "      repo_id = \"mistralai/Mistral-7B-v0.1\",\n",
        "      model_kwargs = {\"temperature\":0.1, \"max_length\":500},\n",
        "      huggingfacehub_api_token = userdata.get('HUGGINGFACE_API_KEY'))"
      ],
      "metadata": {
        "colab": {
          "base_uri": "https://localhost:8080/"
        },
        "id": "CQco8KHsLsoE",
        "outputId": "6d34e9c2-45b3-48df-f855-4360c4114f40"
      },
      "execution_count": 3,
      "outputs": [
        {
          "output_type": "stream",
          "name": "stderr",
          "text": [
            "<ipython-input-3-6f7fe9f37a60>:4: LangChainDeprecationWarning: The class `HuggingFaceHub` was deprecated in LangChain 0.0.21 and will be removed in 1.0. An updated version of the class exists in the :class:`~langchain-huggingface package and should be used instead. To use it run `pip install -U :class:`~langchain-huggingface` and import as `from :class:`~langchain_huggingface import HuggingFaceEndpoint``.\n",
            "  llm = HuggingFaceHub(\n"
          ]
        }
      ]
    },
    {
      "cell_type": "markdown",
      "source": [
        "### Initialize Embedding Model"
      ],
      "metadata": {
        "id": "YY_2RLpfHq5q"
      }
    },
    {
      "cell_type": "markdown",
      "source": [
        "Model url: https://sbert.net/"
      ],
      "metadata": {
        "id": "YHF9sDROJOYA"
      }
    },
    {
      "cell_type": "code",
      "source": [
        "from langchain.embeddings import HuggingFaceEmbeddings\n",
        "\n",
        "embedding_model = HuggingFaceEmbeddings(\n",
        "  model_name=\"sentence-transformers/all-mpnet-base-v2\"\n",
        ")"
      ],
      "metadata": {
        "colab": {
          "base_uri": "https://localhost:8080/"
        },
        "id": "v5VIj7wtD85u",
        "outputId": "6dbe810f-8ec1-4ca1-e842-5f21a4997324"
      },
      "execution_count": 4,
      "outputs": [
        {
          "output_type": "stream",
          "name": "stderr",
          "text": [
            "<ipython-input-4-89b57322def1>:3: LangChainDeprecationWarning: The class `HuggingFaceEmbeddings` was deprecated in LangChain 0.2.2 and will be removed in 1.0. An updated version of the class exists in the :class:`~langchain-huggingface package and should be used instead. To use it run `pip install -U :class:`~langchain-huggingface` and import as `from :class:`~langchain_huggingface import HuggingFaceEmbeddings``.\n",
            "  embedding_model = HuggingFaceEmbeddings(\n",
            "/usr/local/lib/python3.10/dist-packages/huggingface_hub/utils/_token.py:89: UserWarning: \n",
            "The secret `HF_TOKEN` does not exist in your Colab secrets.\n",
            "To authenticate with the Hugging Face Hub, create a token in your settings tab (https://huggingface.co/settings/tokens), set it as secret in your Google Colab and restart your session.\n",
            "You will be able to reuse this secret in all of your notebooks.\n",
            "Please note that authentication is recommended but still optional to access public models or datasets.\n",
            "  warnings.warn(\n",
            "/usr/local/lib/python3.10/dist-packages/transformers/tokenization_utils_base.py:1601: FutureWarning: `clean_up_tokenization_spaces` was not set. It will be set to `True` by default. This behavior will be depracted in transformers v4.45, and will be then set to `False` by default. For more details check this issue: https://github.com/huggingface/transformers/issues/31884\n",
            "  warnings.warn(\n"
          ]
        }
      ]
    },
    {
      "cell_type": "markdown",
      "source": [
        "### Initialize Output Parser"
      ],
      "metadata": {
        "id": "uIowHT1AIk6g"
      }
    },
    {
      "cell_type": "code",
      "source": [
        "from langchain.schema.output_parser import StrOutputParser\n",
        "\n",
        "output_parser=StrOutputParser()"
      ],
      "metadata": {
        "id": "ph6yJRAeI3Dg"
      },
      "execution_count": 5,
      "outputs": []
    },
    {
      "cell_type": "markdown",
      "source": [
        "### Load PDF Document"
      ],
      "metadata": {
        "id": "MLPtLHuaHyDh"
      }
    },
    {
      "cell_type": "code",
      "source": [
        "!pip install pypdf -qU"
      ],
      "metadata": {
        "id": "FtE4Pcb_ElWT"
      },
      "execution_count": 6,
      "outputs": []
    },
    {
      "cell_type": "code",
      "source": [
        "from langchain_community.document_loaders import PyPDFLoader\n",
        "\n",
        "# Load the PDF document\n",
        "loader = PyPDFLoader(\"/content/codeprolk.pdf\")\n",
        "\n",
        "docs = loader.load()"
      ],
      "metadata": {
        "id": "wj8NjIe9ElTX"
      },
      "execution_count": 7,
      "outputs": []
    },
    {
      "cell_type": "code",
      "source": [
        "len(docs)"
      ],
      "metadata": {
        "colab": {
          "base_uri": "https://localhost:8080/"
        },
        "id": "2JaKCnaeElQQ",
        "outputId": "9efea4a5-edec-4732-aa75-63f7361b02a4"
      },
      "execution_count": 8,
      "outputs": [
        {
          "output_type": "execute_result",
          "data": {
            "text/plain": [
              "4"
            ]
          },
          "metadata": {},
          "execution_count": 8
        }
      ]
    },
    {
      "cell_type": "code",
      "source": [
        "docs[0]"
      ],
      "metadata": {
        "colab": {
          "base_uri": "https://localhost:8080/"
        },
        "id": "MUpL3Z7BElNH",
        "outputId": "c091e2dc-614f-4357-e7b8-6b43a10e55d0"
      },
      "execution_count": 9,
      "outputs": [
        {
          "output_type": "execute_result",
          "data": {
            "text/plain": [
              "Document(metadata={'source': '/content/codeprolk.pdf', 'page': 0}, page_content=\"Introduction to CodePRO LK  \\nCodePRO LK  is a dynamic educational platform that offers a diverse range of technology -\\nrelated courses in Sinhala, aimed at empowering Sri Lankans with valuable skills in \\nprogramming, data science, and machine learning. Founded by Dinesh Piyasamara  during the \\nCOVID -19 pandemic, CodePRO LK addresses the growing need for accessible, high -quality \\ntech education tailored to the local community.  \\n \\nFounding and Vision  \\nOrigin and Motivation  \\nThe inception of CodePRO LK was driven by the challenges posed by the COVID -19 pandemic, \\nwhich highlighted the necessity for remote learning and digital skills. Recognizing this, Dinesh \\nPiyasamara launched CodePRO LK to provide Sri Lankan students with the  tools and knowledge \\nto thrive in a digitally -driven world, all through their native language.  \\nVision and Mission  \\n• Vision : To assist talented Sri Lankans in reaching the international market by providing a \\nsolid foundation in technology.  \\n• Mission : To produce high -quality tech courses and articles that enhance the knowledge \\nbase of both students and professionals in the local community.  \\nCourse Offerings  \\nVariety and Accessibility  \\nCodePRO LK stands out for its wide array of free courses, all presented in Sinhala. The courses \\ncater to various proficiency levels, from beginners to intermediates, ensuring that learners of all \\nstages can benefit.  \\nKey Courses  \\n1. Python GUI – Tkinter : This course covers the essentials of creating graphical user \\ninterfaces using Python's Tkinter library.  \\n2. Machine Learning Projects : Includes practical projects like Sentiment Analysis and \\nLaptop Price Predictor.  \\n3. Data Structures and Algorithms : A comprehensive guide to essential programming \\nconcepts and problem -solving techniques.  \\n \\n \")"
            ]
          },
          "metadata": {},
          "execution_count": 9
        }
      ]
    },
    {
      "cell_type": "markdown",
      "source": [
        "### Split Documents into Chunks"
      ],
      "metadata": {
        "id": "7K9dWgI7H2fA"
      }
    },
    {
      "cell_type": "code",
      "source": [
        "from langchain_text_splitters import RecursiveCharacterTextSplitter\n",
        "\n",
        "# Initialize the text splitter\n",
        "text_splitter = RecursiveCharacterTextSplitter(chunk_size=400, chunk_overlap=50)\n",
        "\n",
        "# Split the documents into chunks\n",
        "splits = text_splitter.split_documents(docs)"
      ],
      "metadata": {
        "id": "qu4Ol5uEElKD"
      },
      "execution_count": 10,
      "outputs": []
    },
    {
      "cell_type": "code",
      "source": [
        "len(splits)"
      ],
      "metadata": {
        "colab": {
          "base_uri": "https://localhost:8080/"
        },
        "id": "OnX6N-TfE2x0",
        "outputId": "06ef1e2c-79e4-4023-c583-be3a8fcfbd6d"
      },
      "execution_count": 11,
      "outputs": [
        {
          "output_type": "execute_result",
          "data": {
            "text/plain": [
              "20"
            ]
          },
          "metadata": {},
          "execution_count": 11
        }
      ]
    },
    {
      "cell_type": "markdown",
      "source": [
        "### Create Vector Store and Retriever"
      ],
      "metadata": {
        "id": "8QXX_0zdH7qw"
      }
    },
    {
      "cell_type": "code",
      "source": [
        "from langchain_chroma import Chroma\n",
        "\n",
        "# Create a vector store from the document chunks\n",
        "vectorstore = Chroma.from_documents(documents=splits, embedding=embedding_model)"
      ],
      "metadata": {
        "id": "5N_28g2TElG7"
      },
      "execution_count": 12,
      "outputs": []
    },
    {
      "cell_type": "code",
      "source": [
        "# Create a retriever from the vector store\n",
        "retriever = vectorstore.as_retriever()"
      ],
      "metadata": {
        "id": "EFUj2lDfElEL"
      },
      "execution_count": 20,
      "outputs": []
    },
    {
      "cell_type": "markdown",
      "source": [
        "### Define Prompt Template"
      ],
      "metadata": {
        "id": "PeZ-Mdj1ICp4"
      }
    },
    {
      "cell_type": "code",
      "source": [
        "from langchain.prompts import ChatPromptTemplate\n",
        "\n",
        "# Define prompt template\n",
        "template = \"\"\"\n",
        "Answer this question using the provided context only.\n",
        "\n",
        "{question}\n",
        "\n",
        "Context:\n",
        "{context}\n",
        "\n",
        "Answer:\n",
        "\"\"\"\n",
        "\n",
        "prompt=ChatPromptTemplate.from_template(template)"
      ],
      "metadata": {
        "id": "XMlaWduIElBL"
      },
      "execution_count": 21,
      "outputs": []
    },
    {
      "cell_type": "code",
      "source": [
        "prompt"
      ],
      "metadata": {
        "colab": {
          "base_uri": "https://localhost:8080/"
        },
        "id": "TrDIRXFXEk7D",
        "outputId": "5b94bba2-ddfa-41aa-aa30-2fea4a76fd2d"
      },
      "execution_count": 22,
      "outputs": [
        {
          "output_type": "execute_result",
          "data": {
            "text/plain": [
              "ChatPromptTemplate(input_variables=['context', 'question'], input_types={}, partial_variables={}, messages=[HumanMessagePromptTemplate(prompt=PromptTemplate(input_variables=['context', 'question'], input_types={}, partial_variables={}, template='\\nAnswer this question using the provided context only.\\n\\n{question}\\n\\nContext:\\n{context}\\n\\nAnswer:\\n'), additional_kwargs={})])"
            ]
          },
          "metadata": {},
          "execution_count": 22
        }
      ]
    },
    {
      "cell_type": "markdown",
      "source": [
        "### Chain Retriever and Prompt Template with LLM"
      ],
      "metadata": {
        "id": "7DuaAR7YIUvo"
      }
    },
    {
      "cell_type": "code",
      "source": [
        "from langchain.schema.runnable import RunnablePassthrough\n",
        "\n",
        "chain = (\n",
        "    {\"context\": retriever,  \"question\": RunnablePassthrough()}\n",
        "    | prompt\n",
        "    | llm\n",
        "    | output_parser\n",
        ")"
      ],
      "metadata": {
        "id": "pxdveKlzE8ML"
      },
      "execution_count": 23,
      "outputs": []
    },
    {
      "cell_type": "markdown",
      "source": [
        "#### Invoke RAG Chain with Example Questions"
      ],
      "metadata": {
        "id": "AvP5N4nuIIwQ"
      }
    },
    {
      "cell_type": "code",
      "source": [
        "response = chain.invoke(\"who is codeprolk?\")\n",
        "print(response)"
      ],
      "metadata": {
        "colab": {
          "base_uri": "https://localhost:8080/"
        },
        "id": "i59Ts0rWE8I7",
        "outputId": "600a9129-2316-4adb-e6e4-e86fb6fa0cd1"
      },
      "execution_count": 24,
      "outputs": [
        {
          "output_type": "stream",
          "name": "stdout",
          "text": [
            "Human: \n",
            "Answer this question using the provided context only.\n",
            "\n",
            "who is codeprolk?\n",
            "\n",
            "Context:\n",
            "[Document(metadata={'page': 3, 'source': '/content/codeprolk.pdf'}, page_content='Partnerships and Collaborations  \\nCodePRO LK is exploring partnerships with educational institutions, tech companies, and \\nindustry experts to enrich its content and provide learners with access to a broader range of \\nresources and opportunities. These collaborations aim to bridge the gap be tween education and \\nindustry, ensuring that learners are well -prepared for real -world challenges.'), Document(metadata={'page': 1, 'source': '/content/codeprolk.pdf'}, page_content='Community and Support  \\nCodePRO LK has cultivated a vibrant community where learners can interact, share insights, and \\nsupport each other. Additionally, the platform offers consultation services for personalized \\nlearning support.  \\n \\nCodePRO LK YouTube Channel  \\nOverview  \\nThe CodePRO LK YouTube Channel  is a crucial extension of the platform, providing a wealth'), Document(metadata={'page': 3, 'source': '/content/codeprolk.pdf'}, page_content='Community Engagement and Events  \\nCodePRO LK is committed to strengthening its community through regular engagement \\nactivities such as webinars, live coding sessions, hackathons, and tech talks. These events \\nprovide valuable networking opportunities and practical experience, fostering a su pportive and \\ncollaborative learning environment.  \\n \\nConclusion'), Document(metadata={'page': 2, 'source': '/content/codeprolk.pdf'}, page_content='best aiya.\"  \\n• Heshan R : \"Great work brother. I was scared of coding before I attended this course. \\nHowever, you taught us A -Z in Python. Thanks again for volunteering for such a thing. \\nGood luck. ❤\" \\nThese testimonials highlight the significant positive impact CodePRO LK has had on its learners, \\nhelping them overcome challenges and achieve their educational and professional goals.')]\n",
            "\n",
            "Answer:\n",
            "CodePRO LK is a platform that provides free coding education to Sri Lankan youth. It offers a range of courses, including Python, HTML, CSS, and JavaScript, and aims to bridge the gap between education and industry. The platform has cultivated a vibrant community and offers consultation services for personalized learning support. It also has a YouTube channel that provides valuable resources and practical experience.\n"
          ]
        }
      ]
    },
    {
      "cell_type": "code",
      "source": [
        "response = chain.invoke(\"what are the courses they offer\")\n",
        "print(response)"
      ],
      "metadata": {
        "colab": {
          "base_uri": "https://localhost:8080/"
        },
        "id": "e7MtUu4jVqZh",
        "outputId": "8688f3ef-9102-4e39-c563-09ee17878bd8"
      },
      "execution_count": 28,
      "outputs": [
        {
          "output_type": "stream",
          "name": "stdout",
          "text": [
            "Human: \n",
            "Answer this question using the provided context only.\n",
            "\n",
            "what are the courses they offer\n",
            "\n",
            "Context:\n",
            "[Document(metadata={'page': 0, 'source': '/content/codeprolk.pdf'}, page_content='Course Offerings  \\nVariety and Accessibility  \\nCodePRO LK stands out for its wide array of free courses, all presented in Sinhala. The courses \\ncater to various proficiency levels, from beginners to intermediates, ensuring that learners of all \\nstages can benefit.  \\nKey Courses  \\n1. Python GUI – Tkinter : This course covers the essentials of creating graphical user'), Document(metadata={'page': 1, 'source': '/content/codeprolk.pdf'}, page_content='Learning Experience  \\nCourse Structure  \\nEach course is meticulously structured to provide a holistic learning experience, comprising:  \\n• Video Lectures : Detailed tutorials that break down complex concepts.  \\n• Quizzes : Interactive quizzes to reinforce learning.  \\n• Assignments : Hands -on tasks to apply theoretical knowledge.  \\nCommunity and Support'), Document(metadata={'page': 3, 'source': '/content/codeprolk.pdf'}, page_content='Future Directions  \\nExpansion of Course Offerings  \\nLooking ahead, CodePRO LK aims to expand its course offerings to cover more advanced topics \\nand emerging technologies. This includes areas like artificial intelligence, cybersecurity, and \\nadvanced data analytics, providing learners with the skills needed t o stay ahead in the fast -\\nevolving tech landscape.  \\nPartnerships and Collaborations'), Document(metadata={'page': 0, 'source': '/content/codeprolk.pdf'}, page_content='Introduction to CodePRO LK  \\nCodePRO LK  is a dynamic educational platform that offers a diverse range of technology -\\nrelated courses in Sinhala, aimed at empowering Sri Lankans with valuable skills in \\nprogramming, data science, and machine learning. Founded by Dinesh Piyasamara  during the \\nCOVID -19 pandemic, CodePRO LK addresses the growing need for accessible, high -quality')]\n",
            "\n",
            "Answer:\n",
            "\n",
            "Course Offerings\n",
            "\n",
            "Variety and Accessibility\n",
            "\n",
            "CodePRO LK stands out for its wide array of free courses, all presented in Sinhala. The courses cater to various proficiency levels, from beginners to intermediates, ensuring that learners of all stages can benefit.\n",
            "\n",
            "Key Courses\n",
            "\n",
            "1. Python GUI – Tkinter : This course covers the essentials of creating graphical user interfaces using the Tkinter library in\n"
          ]
        }
      ]
    },
    {
      "cell_type": "code",
      "source": [
        "response = chain.invoke(\"what are the popular videos in codeprolk youtube channel\")\n",
        "print(response)"
      ],
      "metadata": {
        "colab": {
          "base_uri": "https://localhost:8080/"
        },
        "id": "UqPMwSz0oOpE",
        "outputId": "eca11426-ca6e-4a00-fb35-7e5c56b4c159"
      },
      "execution_count": 29,
      "outputs": [
        {
          "output_type": "stream",
          "name": "stdout",
          "text": [
            "Human: \n",
            "Answer this question using the provided context only.\n",
            "\n",
            "what are the popular videos in codeprolk youtube channel\n",
            "\n",
            "Context:\n",
            "[Document(metadata={'page': 2, 'source': '/content/codeprolk.pdf'}, page_content='Community Engagement  \\nThe YouTube channel has amassed a substantial following, with thousands of subscribers \\nactively engaging with the content. Viewers frequently leave comments expressing their \\nappreciation and sharing how the videos have assisted them in their learning journ eys. \\nImpact  \\nThe CodePRO LK YouTube channel has played a significant role in democratizing tech'), Document(metadata={'page': 1, 'source': '/content/codeprolk.pdf'}, page_content='Community and Support  \\nCodePRO LK has cultivated a vibrant community where learners can interact, share insights, and \\nsupport each other. Additionally, the platform offers consultation services for personalized \\nlearning support.  \\n \\nCodePRO LK YouTube Channel  \\nOverview  \\nThe CodePRO LK YouTube Channel  is a crucial extension of the platform, providing a wealth'), Document(metadata={'page': 3, 'source': '/content/codeprolk.pdf'}, page_content='Community Engagement and Events  \\nCodePRO LK is committed to strengthening its community through regular engagement \\nactivities such as webinars, live coding sessions, hackathons, and tech talks. These events \\nprovide valuable networking opportunities and practical experience, fostering a su pportive and \\ncollaborative learning environment.  \\n \\nConclusion'), Document(metadata={'page': 3, 'source': '/content/codeprolk.pdf'}, page_content='Partnerships and Collaborations  \\nCodePRO LK is exploring partnerships with educational institutions, tech companies, and \\nindustry experts to enrich its content and provide learners with access to a broader range of \\nresources and opportunities. These collaborations aim to bridge the gap be tween education and \\nindustry, ensuring that learners are well -prepared for real -world challenges.')]\n",
            "\n",
            "Answer:\n",
            "\n",
            "The popular videos in the CodePRO LK YouTube channel include tutorials on various programming languages, web development, and software engineering concepts. Some of the most viewed videos include \"Introduction to Python,\" \"Web Development with HTML and CSS,\" \"JavaScript Fundamentals,\" and \"Introduction to Machine Learning.\" These videos have received thousands of views and positive feedback from viewers, demonstrating the channel's impact on the Sri Lankan tech community.\n"
          ]
        }
      ]
    }
  ]
}